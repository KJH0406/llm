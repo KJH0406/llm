{
 "cells": [
  {
   "cell_type": "code",
   "execution_count": 4,
   "metadata": {},
   "outputs": [],
   "source": [
    "from langchain.embeddings import OpenAIEmbeddings\n",
    "from langchain_pinecone import Pinecone\n",
    "\n",
    "embeddings = OpenAIEmbeddings()\n",
    "\n",
    "index_name = \"recipes\"\n",
    "vector_store = Pinecone.from_existing_index(\n",
    "    index_name,\n",
    "    embeddings,\n",
    ")\n",
    "\n",
    "docs = vector_store.similarity_search(\"kimchi\")\n",
    "\n",
    "print(docs)\n",
    "\n"
   ]
  }
 ],
 "metadata": {
  "kernelspec": {
   "display_name": "Python 3.11.1 ('env': venv)",
   "language": "python",
   "name": "python3"
  },
  "language_info": {
   "codemirror_mode": {
    "name": "ipython",
    "version": 3
   },
   "file_extension": ".py",
   "mimetype": "text/x-python",
   "name": "python",
   "nbconvert_exporter": "python",
   "pygments_lexer": "ipython3",
   "version": "3.11.1"
  },
  "orig_nbformat": 4,
  "vscode": {
   "interpreter": {
    "hash": "f4a12807d5d31e7859eaa5b0d5469593ff6754ed9fdcc97c4766f6dc90272706"
   }
  }
 },
 "nbformat": 4,
 "nbformat_minor": 2
}
