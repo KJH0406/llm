{
 "cells": [
  {
   "cell_type": "code",
   "execution_count": 11,
   "metadata": {},
   "outputs": [
    {
     "name": "stdout",
     "output_type": "stream",
     "text": [
      "\n",
      "\n",
      "\u001b[1m> Entering new AgentExecutor chain...\u001b[0m\n",
      "\u001b[32;1m\u001b[1;3m\n",
      "Invoking: `StockMarketSymbolSearchTool` with `{'query': 'Cloudflare'}`\n",
      "\n",
      "\n",
      "\u001b[0m\u001b[36;1m\u001b[1;3mRead the latest posts from Cloudflare's official blog, covering topics such as security, performance, AI, email, DNS, and more. Learn how Cloudflare disrupts threats, innovates features, and improves Internet infrastructure. We have, over the last 24 hours, released an automatic JavaScript URL rewriting service that will rewrite any link to polyfill.io found in a website proxied by Cloudflare to a link to our mirror under cdnjs. This will avoid breaking site functionality while mitigating the risk of a supply chain attack. Following its initial announcement in September 2022, Cloudflare Calls is now in open beta and available in your Cloudflare Dashboard.Cloudflare Calls lets developers build real-time audio/video apps using WebRTC, and it abstracts away the complexity by turning the Cloudflare network into a singular SFU.In this post, we dig into how we make this possible. Missed the live action at Cloudflare Connect? No worries! Dive into the exhilarating moments, groundbreaking insights, and industry revelations with our exclusive highlight reel. Immerse yourself in the energy of the event and stay tuned, stay connected, and stay inspired. Cloudflare Announces Fourth Quarter and Fiscal Year 2023 Financial Results. February 08, 2024. New Cloudflare Report Shows Organizations Struggle to Identify and Manage Cybersecurity Risks of APIs. January 09, 2024. Cloudflare Announces Date of Fourth Quarter 2023 Financial Results. January 09, 2024. We list global press coverage about ...\u001b[0m\u001b[32;1m\u001b[1;3m\n",
      "Invoking: `CompanyOverview` with `{'symbol': 'NET'}`\n",
      "\n",
      "\n",
      "\u001b[0m\u001b[33;1m\u001b[1;3m{'Symbol': 'NET', 'AssetType': 'Common Stock', 'Name': 'Cloudflare Inc', 'Description': 'CloudFlare, Inc. operates a cloud platform that offers a range of network services to companies around the world. The company is headquartered in San Francisco, California.', 'CIK': '1477333', 'Exchange': 'NYSE', 'Currency': 'USD', 'Country': 'USA', 'Sector': 'TECHNOLOGY', 'Industry': 'SERVICES-PREPACKAGED SOFTWARE', 'Address': '101 TOWNSEND ST., SAN FRANCISCO, CA, US', 'FiscalYearEnd': 'December', 'LatestQuarter': '2024-03-31', 'MarketCapitalization': '28722700000', 'EBITDA': '-79940000', 'PERatio': 'None', 'PEGRatio': '2.355', 'BookValue': '2.347', 'DividendPerShare': 'None', 'DividendYield': 'None', 'EPS': '-0.53', 'RevenuePerShareTTM': '4.126', 'ProfitMargin': '-0.131', 'OperatingMarginTTM': '-0.144', 'ReturnOnAssetsTTM': '-0.0441', 'ReturnOnEquityTTM': '-0.25', 'RevenueTTM': '1385172000', 'GrossProfitTTM': '742631000', 'DilutedEPSTTM': '-0.53', 'QuarterlyEarningsGrowthYOY': '0', 'QuarterlyRevenueGrowthYOY': '0.305', 'AnalystTargetPrice': '90.93', 'AnalystRatingStrongBuy': '5', 'AnalystRatingBuy': '9', 'AnalystRatingHold': '14', 'AnalystRatingSell': '3', 'AnalystRatingStrongSell': '1', 'TrailingPE': '-', 'ForwardPE': '158.73', 'PriceToSalesRatioTTM': '24.41', 'PriceToBookRatio': '41.49', 'EVToRevenue': '24.23', 'EVToEBITDA': '-868.69', 'Beta': '1.101', '52WeekHigh': '116', '52WeekLow': '53.88', '50DayMovingAverage': '77.2', '200DayMovingAverage': '79.32', 'SharesOutstanding': '301090000', 'DividendDate': 'None', 'ExDividendDate': 'None'}\u001b[0m\u001b[32;1m\u001b[1;3m클라우드플레어(Cloudflare)는 기술 기업으로, 미국 캘리포니아에 본사를 두고 있습니다. 주식 코드는 NET이며 뉴욕 증권거래소에 상장되어 있습니다. 최근 연간 매출은 13억 8517만 2000달러이며, 시가총액은 287억 2270만 달러입니다. 주당 순이익은 -0.53달러이며, 주당 순자산은 2.347달러입니다. 클라우드플레어의 주가는 52주 최고가가 116달러이고, 52주 최저가가 53.88달러입니다. 주식의 50일 이동평균은 77.2달러이며, 200일 이동평균은 79.32달러입니다. 분석가들은 클라우드플레어의 주식에 대해 강력매수 5개, 매수 9개, 보유 14개, 판매 3개, 강력판매 1개의 평가를 내리고 있습니다. 미래 주가 수익비율은 158.73이며, 주식의 가치 평가는 90.93달러입니다. 클라우드플레어의 주식은 현재 안정적인 투자로 평가될 수 있습니다.\u001b[0m\n",
      "\n",
      "\u001b[1m> Finished chain.\u001b[0m\n"
     ]
    },
    {
     "data": {
      "text/plain": [
       "{'input': \"Give me financial information on Cloudflare's stock and help me analyze if it's a potential good investment. Answer must be in Korean.\",\n",
       " 'output': '클라우드플레어(Cloudflare)는 기술 기업으로, 미국 캘리포니아에 본사를 두고 있습니다. 주식 코드는 NET이며 뉴욕 증권거래소에 상장되어 있습니다. 최근 연간 매출은 13억 8517만 2000달러이며, 시가총액은 287억 2270만 달러입니다. 주당 순이익은 -0.53달러이며, 주당 순자산은 2.347달러입니다. 클라우드플레어의 주가는 52주 최고가가 116달러이고, 52주 최저가가 53.88달러입니다. 주식의 50일 이동평균은 77.2달러이며, 200일 이동평균은 79.32달러입니다. 분석가들은 클라우드플레어의 주식에 대해 강력매수 5개, 매수 9개, 보유 14개, 판매 3개, 강력판매 1개의 평가를 내리고 있습니다. 미래 주가 수익비율은 158.73이며, 주식의 가치 평가는 90.93달러입니다. 클라우드플레어의 주식은 현재 안정적인 투자로 평가될 수 있습니다.'}"
      ]
     },
     "execution_count": 11,
     "metadata": {},
     "output_type": "execute_result"
    }
   ],
   "source": [
    "# LLM 모델을 통한 연산 예제\n",
    "import os\n",
    "import requests\n",
    "from typing import Type\n",
    "from pydantic import BaseModel,Field\n",
    "from langchain.chat_models import ChatOpenAI\n",
    "from langchain.tools import BaseTool\n",
    "from langchain.agents import initialize_agent, AgentType\n",
    "from langchain.utilities import DuckDuckGoSearchAPIWrapper\n",
    "\n",
    "llm = ChatOpenAI(temperature=0)\n",
    "\n",
    "alpha_vantage_api_key = os.environ.get(\"AlPHA_VANTAGE_API_KEY\")\n",
    "\n",
    "class StockMarketSymbolSearchToolArgsSchema(BaseModel):\n",
    "    query: str = Field(description=\"The query you will search for\") # Field는 각 필드의 메타데이터(추가 설명 등)를 제공\n",
    "\n",
    "# 주식 심볼 찾는 도구(종목 코드)\n",
    "class StockMarketSymbolSearchTool(BaseTool):\n",
    "    name = \"StockMarketSymbolSearchTool\"\n",
    "    description = \"\"\"\n",
    "    Use this tool to find the stock market symbol for a company.\n",
    "    It takes a query as an argument.\n",
    "    Example query: Stock Market Symbol for Apple Company\n",
    "    \"\"\"\n",
    "\n",
    "    args_schema: Type[StockMarketSymbolSearchToolArgsSchema] = StockMarketSymbolSearchToolArgsSchema\n",
    "\n",
    "    def _run(self, query):\n",
    "        # DuckDuckGo 검색 엔진을 통해 웹 검색을 수행하는 기능 또는 도구\n",
    "        search_engine = DuckDuckGoSearchAPIWrapper()\n",
    "        # 검색 엔진을 사용하여 웹 검색\n",
    "        return search_engine.run(query)\n",
    "\n",
    "\n",
    "class CompanyOverviewArgsSchema(BaseModel):\n",
    "    symbol : str = Field(description=\"Stock symbol of the company. Example: AAPL, TSLA\",)\n",
    "\n",
    "\n",
    "# 회사 개요 찾는 도구\n",
    "class CompanyOverviewTool(BaseTool):\n",
    "    name = \"CompanyOverview\"\n",
    "    description = \"\"\"\n",
    "    Use this to get an overview of the financials of the company.\n",
    "    You should enter a stock symbol.\n",
    "    \"\"\"\n",
    "    args_schema: Type[CompanyOverviewArgsSchema] = CompanyOverviewArgsSchema\n",
    "\n",
    "    def _run(self, symbol):\n",
    "        api_request_result = requests.get(\n",
    "            f\"https://www.alphavantage.co/query?function=OVERVIEW&symbol={symbol}&apikey={alpha_vantage_api_key}\"\n",
    "        )\n",
    "        return api_request_result.json()\n",
    "\n",
    "agent = initialize_agent(\n",
    "    llm=llm,\n",
    "    verbose = True, \n",
    "    agent=AgentType.OPENAI_FUNCTIONS,\n",
    "    handle_parsing_errors=True,\n",
    "    tools=[\n",
    "        # 종목 코드 검색 도구\n",
    "        StockMarketSymbolSearchTool(),\n",
    "        # 회사 개요 탐색 도구\n",
    "        CompanyOverviewTool(),\n",
    "    ]\n",
    ")\n",
    "\n",
    "prompt = \"Give me financial information on Cloudflare's stock and help me analyze if it's a potential good investment. Answer must be in Korean.\"\n",
    "\n",
    "agent.invoke(prompt)"
   ]
  },
  {
   "cell_type": "code",
   "execution_count": null,
   "metadata": {},
   "outputs": [],
   "source": []
  },
  {
   "cell_type": "code",
   "execution_count": null,
   "metadata": {},
   "outputs": [],
   "source": []
  }
 ],
 "metadata": {
  "kernelspec": {
   "display_name": "Python 3.11.1 ('env': venv)",
   "language": "python",
   "name": "python3"
  },
  "language_info": {
   "codemirror_mode": {
    "name": "ipython",
    "version": 3
   },
   "file_extension": ".py",
   "mimetype": "text/x-python",
   "name": "python",
   "nbconvert_exporter": "python",
   "pygments_lexer": "ipython3",
   "version": "3.11.1"
  },
  "orig_nbformat": 4,
  "vscode": {
   "interpreter": {
    "hash": "f4a12807d5d31e7859eaa5b0d5469593ff6754ed9fdcc97c4766f6dc90272706"
   }
  }
 },
 "nbformat": 4,
 "nbformat_minor": 2
}
