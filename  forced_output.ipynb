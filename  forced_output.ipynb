{
 "cells": [
  {
   "cell_type": "code",
   "execution_count": 11,
   "metadata": {},
   "outputs": [
    {
     "data": {
      "text/plain": [
       "{'lon': '127.7669', 'lat': '35.9078'}"
      ]
     },
     "execution_count": 11,
     "metadata": {},
     "output_type": "execute_result"
    }
   ],
   "source": [
    "from langchain.chat_models import ChatOpenAI\n",
    "from langchain.prompts import PromptTemplate\n",
    "\n",
    "def get_weather(lon, lat):\n",
    "    print(\"API call...\")\n",
    "\n",
    "# 함수의 작동 방식과 필요한 것을 설명해주는 스키마\n",
    "function = { \n",
    "    # 작동할 함수 명\n",
    "    \"name\": \"get_weather\",\n",
    "    # 함수 작동 방식 설명\n",
    "    \"description\": \"function that taskes longitude and latitude to find the weather of a place\",\n",
    "    # 함수 파라미터 설정\n",
    "    \"parameters\": {\n",
    "        \"type\": \"object\",\n",
    "        \"properties\":{\n",
    "            \"lon\": {\"type\": \"string\", \"description\": \"The longitude coordinate\"},\n",
    "            \"lat\": {\"type\": \"string\", \"description\": \"The latitude coordinate\"}\n",
    "        },\n",
    "    },\n",
    "    \"required\": [\"lon\", \"lat\"],\n",
    "}\n",
    "\n",
    "llm = ChatOpenAI(\n",
    "    model_name = \"gpt-4o\",\n",
    "    temperature=0.1,\n",
    "\n",
    "# 모델이 특정 함수를 강제하도록 설정하거나 그냥 스스로 답변을 하도록 설정할 수 있음\n",
    ").bind(\n",
    "    # 아래 적힌 함수를 사용하도록 강제함\n",
    "    # function_call={\n",
    "    #     \"name\" : \"get_weather\"\n",
    "    # },\n",
    "       \n",
    "    # 모델에게 선택권을 주어서 필요에 따라 선택할 수 있도록 설정\n",
    "    function_call=\"auto\",\n",
    "    functions=[\n",
    "        function\n",
    "    ]\n",
    ")\n",
    "\n",
    "prompt = PromptTemplate.from_template(\"What is the weather in {city}\")\n",
    "\n",
    "chain = prompt | llm\n",
    "\n",
    "response = chain.invoke({\n",
    "    \"city\": \"korea\"\n",
    "})\n",
    "\n",
    "response = response.additional_kwargs[\"function_call\"][\"arguments\"]\n",
    "\n",
    "\n",
    "import json\n",
    "json.loads(response)\n"
   ]
  },
  {
   "cell_type": "code",
   "execution_count": null,
   "metadata": {},
   "outputs": [],
   "source": []
  }
 ],
 "metadata": {
  "kernelspec": {
   "display_name": "Python 3.11.1 ('env': venv)",
   "language": "python",
   "name": "python3"
  },
  "language_info": {
   "codemirror_mode": {
    "name": "ipython",
    "version": 3
   },
   "file_extension": ".py",
   "mimetype": "text/x-python",
   "name": "python",
   "nbconvert_exporter": "python",
   "pygments_lexer": "ipython3",
   "version": "3.11.1"
  },
  "orig_nbformat": 4,
  "vscode": {
   "interpreter": {
    "hash": "f4a12807d5d31e7859eaa5b0d5469593ff6754ed9fdcc97c4766f6dc90272706"
   }
  }
 },
 "nbformat": 4,
 "nbformat_minor": 2
}
