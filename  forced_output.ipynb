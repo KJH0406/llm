{
 "cells": [
  {
   "cell_type": "code",
   "execution_count": 12,
   "metadata": {},
   "outputs": [
    {
     "data": {
      "text/plain": [
       "'{\"questions\":[{\"question\":\"What is the capital city of South Korea?\",\"answers\":[{\"answer\":\"Seoul\",\"correct\":true},{\"answer\":\"Busan\",\"correct\":false},{\"answer\":\"Incheon\",\"correct\":false}]},{\"question\":\"Which Korean dish is made with fermented vegetables and spicy seasonings?\",\"answers\":[{\"answer\":\"Bibimbap\",\"correct\":false},{\"answer\":\"Kimchi\",\"correct\":true},{\"answer\":\"Bulgogi\",\"correct\":false}]},{\"question\":\"Who is the famous South Korean boy band known for hits like \\'Dynamite\\' and \\'Boy With Luv\\'?\",\"answers\":[{\"answer\":\"BTS\",\"correct\":true},{\"answer\":\"EXO\",\"correct\":false},{\"answer\":\"Blackpink\",\"correct\":false}]},{\"question\":\"What is the traditional Korean dress called?\",\"answers\":[{\"answer\":\"Kimono\",\"correct\":false},{\"answer\":\"Hanbok\",\"correct\":true},{\"answer\":\"Cheongsam\",\"correct\":false}]},{\"question\":\"Which Korean alphabet is used for writing the Korean language?\",\"answers\":[{\"answer\":\"Hiragana\",\"correct\":false},{\"answer\":\"Hangul\",\"correct\":true},{\"answer\":\"Katakana\",\"correct\":false}]}]}'"
      ]
     },
     "execution_count": 12,
     "metadata": {},
     "output_type": "execute_result"
    }
   ],
   "source": [
    "from langchain.chat_models import ChatOpenAI\n",
    "from langchain.prompts import PromptTemplate\n",
    "\n",
    "# 출력값을 구조화하는 함수 생성\n",
    "function = {\n",
    "\t\t# 함수 명\n",
    "    \"name\": \"create_quiz\",\n",
    "    # 함수에 대한 설명\n",
    "    \"description\": \"function that takes a list of questions and answers and returns a quiz\",\n",
    "    # 매개변수 지정\n",
    "    \"parameters\": {\n",
    "        \"type\": \"object\",\n",
    "        \"properties\": {\n",
    "            \"questions\": {\n",
    "                \"type\": \"array\",\n",
    "                \"items\": {\n",
    "                    \"type\": \"object\",\n",
    "                    \"properties\": {\n",
    "                        \"question\": {\n",
    "                            \"type\": \"string\",\n",
    "                        },\n",
    "                        \"answers\": {\n",
    "                            \"type\": \"array\",\n",
    "                            \"items\": {\n",
    "                                \"type\": \"object\",\n",
    "                                \"properties\": {\n",
    "                                    \"answer\": {\n",
    "                                        \"type\": \"string\",\n",
    "                                    },\n",
    "                                    \"correct\": {\n",
    "                                        \"type\": \"boolean\",\n",
    "                                    },\n",
    "                                },\n",
    "                                \"required\": [\"answer\", \"correct\"],\n",
    "                            },\n",
    "                        },\n",
    "                    },\n",
    "                    \"required\": [\"question\", \"answers\"],\n",
    "                },\n",
    "            }\n",
    "        },\n",
    "        \"required\": [\"questions\"],\n",
    "    },\n",
    "}\n",
    "\n",
    "# LLM 모델 설정\n",
    "llm = ChatOpenAI(\n",
    "    temperature=0.1,\n",
    ").bind(\n",
    "\t\t# 모델에게 출력값을 구조화하는 함수 강제 실행 설정\n",
    "    function_call={\n",
    "        \"name\": \"create_quiz\",\n",
    "    },\n",
    "    functions=[\n",
    "        function,\n",
    "    ],\n",
    ")\n",
    "\n",
    "# 프롬프트에는 단순 질문만 전달(출력 형식에 대한 설명과 예시는 함수에 들어있으므로 생략)\n",
    "prompt = PromptTemplate.from_template(\"Make a quiz about {city}\")\n",
    "\n",
    "chain = prompt | llm\n",
    "\n",
    "response = chain.invoke({\"city\": \"korea\"})\n",
    "\n",
    "\n",
    "response = response.additional_kwargs[\"function_call\"][\"arguments\"]\n",
    "\n",
    "response"
   ]
  },
  {
   "cell_type": "code",
   "execution_count": null,
   "metadata": {},
   "outputs": [],
   "source": []
  }
 ],
 "metadata": {
  "kernelspec": {
   "display_name": "Python 3.11.1 ('env': venv)",
   "language": "python",
   "name": "python3"
  },
  "language_info": {
   "codemirror_mode": {
    "name": "ipython",
    "version": 3
   },
   "file_extension": ".py",
   "mimetype": "text/x-python",
   "name": "python",
   "nbconvert_exporter": "python",
   "pygments_lexer": "ipython3",
   "version": "3.11.1"
  },
  "orig_nbformat": 4,
  "vscode": {
   "interpreter": {
    "hash": "f4a12807d5d31e7859eaa5b0d5469593ff6754ed9fdcc97c4766f6dc90272706"
   }
  }
 },
 "nbformat": 4,
 "nbformat_minor": 2
}
