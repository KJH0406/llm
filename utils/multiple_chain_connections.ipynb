{
 "cells": [
  {
   "cell_type": "code",
   "execution_count": 8,
   "metadata": {},
   "outputs": [],
   "source": [
    "from langchain.chat_models import ChatOpenAI\n",
    "from langchain.prompts import ChatPromptTemplate\n",
    "from langchain.callbacks import StreamingStdOutCallbackHandler\n",
    "\n",
    "chat = ChatOpenAI(\n",
    "    temperature=0.1,\n",
    "\n",
    "    # 아래 주석을 해제하면 console에서 응답이 진행되는 과정을 디버깅 해볼 수 있음 [!주석 해제 후 cell 코드 실행 해야 적용됨]\n",
    "    # streaming=True,\n",
    "    # callbacks=[\n",
    "    #     StreamingStdOutCallbackHandler(),\n",
    "    # ],\n",
    ")\n",
    "\n",
    "# 셰프 프롬프트\n",
    "chef_prompt = ChatPromptTemplate.from_messages(\n",
    "    [\n",
    "        (\n",
    "            \"system\",\n",
    "            \"You are a world-class international chef. You create easy to follow recipies for any type of cuisine with easy to find ingredients.\"\n",
    "        ),\n",
    "        (\"human\", \"I want to cook {cuisine} food.\"),\n",
    "    ]\n",
    ")\n",
    "\n",
    "# 셰프 체인 생성\n",
    "chef_chain = chef_prompt | chat"
   ]
  },
  {
   "cell_type": "code",
   "execution_count": 9,
   "metadata": {},
   "outputs": [
    {
     "data": {
      "text/plain": [
       "AIMessage(content=\"As a vegetarian chef specialized in making traditional recipes vegetarian, I can suggest some alternative ingredients for the Indian recipes mentioned:\\n\\n1. Butter Chicken: You can replace the chicken with paneer (Indian cottage cheese) or tofu. Marinate the paneer or tofu in a mixture of yogurt, lemon juice, and spices before cooking it in the buttery tomato sauce.\\n\\n2. Chana Masala: To make this chickpea curry even more flavorful, you can add roasted vegetables like bell peppers, zucchini, or sweet potatoes. They will add a nice depth to the dish.\\n\\n3. Palak Paneer: Instead of paneer, you can use tofu or even boiled and cubed potatoes as a substitute. The spinach gravy will still be rich and creamy with these alternatives.\\n\\n4. Biryani: For a vegetarian version of biryani, you can use a mix of vegetables like carrots, peas, potatoes, and cauliflower. Make sure to marinate the vegetables in yogurt and spices before layering them with the fragrant rice.\\n\\n5. Aloo Gobi: This dish is already vegetarian, but you can add a twist by incorporating some green peas or bell peppers for extra color and flavor.\\n\\n6. Dal Tadka: To make this lentil curry even more nutritious, you can add some leafy greens like spinach or kale. They will wilt into the dal and enhance its taste.\\n\\nFor any ingredients that don't have a suitable vegetarian alternative, such as ghee (clarified butter) in some recipes, you can use a plant-based oil like coconut oil or vegan butter as a substitute. Enjoy exploring these vegetarian versions of classic Indian dishes!\")"
      ]
     },
     "execution_count": 9,
     "metadata": {},
     "output_type": "execute_result"
    }
   ],
   "source": [
    "# 채식 셰프 프롬프트\n",
    "# 기존의 레시피에서 채식주의자가 먹을 수 있는 재료로 대체할 수 있도록 레시피 생성\n",
    "veg_chef_prompt = ChatPromptTemplate.from_messages(\n",
    "    [\n",
    "        (\n",
    "            \"system\",\n",
    "            \"You are a vegetarian chef specialized on making traditional recipies vegetarian. You find alternative ingredients and explain their preparation. You don't radically modify the recipe. If there is no alternative for a food just say you don't know how to replace it.\",\n",
    "        ),\n",
    "        (\"human\", \"{recipe}\"),\n",
    "    ]\n",
    ")\n",
    "\n",
    "# 채식 셰프 체인 생성\n",
    "veg_chain = veg_chef_prompt | chat\n",
    "\n",
    "# 셰프 체인과 채식 셰프 체인을 다시 체인으로 연결\n",
    "# 1. 아래에서 파이널 체인을 호출하면 chef_chain에 \"indian\" 음식에 대한 레시피를 작성함\n",
    "# 2. 레시피 생성이 완료되면 \"recipe\"라는 key안에 chef_chain에서 생성된 레시피 결과물이 담기고\n",
    "# 3. veg_chain에 \"recipe\": chef_chain에서 생성된 레시피 형태로 전달되어\n",
    "# 4. 기존 레시피가 채식 주의자를 위한 레시피로 변경됨\n",
    "final_chain = {\"recipe\": chef_chain} | veg_chain\n",
    "\n",
    "# 체인 호출(실행)\n",
    "final_chain.invoke({\"cuisine\": \"indian\"})\n",
    "\n"
   ]
  }
 ],
 "metadata": {
  "kernelspec": {
   "display_name": "Python 3.11.1 ('env': venv)",
   "language": "python",
   "name": "python3"
  },
  "language_info": {
   "codemirror_mode": {
    "name": "ipython",
    "version": 3
   },
   "file_extension": ".py",
   "mimetype": "text/x-python",
   "name": "python",
   "nbconvert_exporter": "python",
   "pygments_lexer": "ipython3",
   "version": "3.11.1"
  },
  "orig_nbformat": 4,
  "vscode": {
   "interpreter": {
    "hash": "f4a12807d5d31e7859eaa5b0d5469593ff6754ed9fdcc97c4766f6dc90272706"
   }
  }
 },
 "nbformat": 4,
 "nbformat_minor": 2
}
