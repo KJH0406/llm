{
 "cells": [
  {
   "cell_type": "code",
   "execution_count": null,
   "metadata": {},
   "outputs": [],
   "source": [
    "# LLM 모델을 통한 연산 예제\n",
    "from langchain.chat_models import ChatOpenAI\n",
    "\n",
    "llm = ChatOpenAI(temperature=0)\n",
    "# llm = ChatOpenAI(model_name='gpt-4o',temperature=0)\n",
    "\n",
    "prompt = \"Cost of $355.39 + $924.87 + $721.2 + $1940.29 + $573.63 + $65.72 + $35.00 + $552.00 + $76.16 + $29.12.\"\n",
    "\n",
    "llm.invoke(prompt).content"
   ]
  },
  {
   "cell_type": "code",
   "execution_count": null,
   "metadata": {},
   "outputs": [],
   "source": [
    "# LLM 모델을 통한 연산 예제\n",
    "from langchain.chat_models import ChatOpenAI\n",
    "from langchain.tools import StructuredTool\n",
    "from langchain.agents import initialize_agent, AgentType\n",
    "\n",
    "llm = ChatOpenAI(temperature=0)\n",
    "\n",
    "# 덧셈을 수행하는 함수 정의\n",
    "def plus(a, b): \n",
    "    return a + b\n",
    "\n",
    "# 에이전트 생성\n",
    "agent = initialize_agent(\n",
    "    # 사용할 LLM 모델\n",
    "    llm=llm,\n",
    "\n",
    "    # 추론 과정 디버깅(에전트가 하는 작업의 모든 과정 및 추론을 직접 확인해볼 수 있음)\n",
    "    verbose = True, \n",
    "\n",
    "    # 에이전트 유형 설정\n",
    "    agent=AgentType.STRUCTURED_CHAT_ZERO_SHOT_REACT_DESCRIPTION,\n",
    "\n",
    "    # 에이전트가 사용할 도구 모음(Tools)\n",
    "    tools=[\n",
    "        StructuredTool.from_function(\n",
    "            func = plus, # 위에서 정의해놓은 덧셈 함수를 도구 모음에 추가\n",
    "            name = \"Sum Calculator\", # 도구의 이름을 \"덧셈 계산기\"로 정의 \n",
    "            description=\"Use this to perform sums of two numbers. This tool take two arguments, both should be numbers. till finish.\" # 도구에 대한 설명 작성\n",
    "        )\n",
    "    ]\n",
    ")\n",
    "\n",
    "prompt = \"Cost of $355.39 + $924.87 + $721.2 + $1940.29 + $573.63 + $65.72 + $35.00 + $552.00 + $76.16 + $29.12.\"\n",
    "\n",
    "\n",
    "# 이번엔 에이전트에게 프롬프트를 입력(위에선 LLM모델에 입력했음)\n",
    "agent.invoke(prompt)"
   ]
  },
  {
   "cell_type": "code",
   "execution_count": 8,
   "metadata": {},
   "outputs": [
    {
     "name": "stdout",
     "output_type": "stream",
     "text": [
      "\n",
      "\n",
      "\u001b[1m> Entering new AgentExecutor chain...\u001b[0m\n",
      "\u001b[32;1m\u001b[1;3m\n",
      "Invoking: `StockMarketSymbolSearchTool` with `{'query': 'Stock Market Symbol for Apple Company'}`\n",
      "\n",
      "\n",
      "\u001b[0m\u001b[36;1m\u001b[1;3mDiscover real-time Apple Inc. Common Stock (AAPL) stock prices, quotes, historical data, news, and Insights for informed trading and investment decisions. Stay ahead with Nasdaq. Historical Stock Price Lookup. Investor Relations > Stock Price . Apple Footer Stock analysis for Apple Inc (AAPL:NASDAQ GS) including stock price, stock chart, company news, key statistics, fundamentals and company profile. A high-level overview of Apple Inc. (AAPL) stock. Stay up to date on the latest stock price, chart, news, analysis, fundamentals, trading and investment tools. Get a real-time Apple Inc (AAPL) stock price quote with breaking news, financials, statistics, charts and more. Get a real-time Apple Inc (AAPL) stock price quote with breaking news, financials, statistics, charts and more. ... joins 'Squawk Box' to discuss the latest market trends, where investors can find opportunities right now, and more ...\u001b[0m\u001b[32;1m\u001b[1;3mThe stock symbol for Apple Inc. is AAPL. \n",
      "\n",
      "Apple Inc. (AAPL) is listed on the NASDAQ GS stock exchange. Here are some key details about Apple's stock:\n",
      "- Real-time stock price: [AAPL Stock Price](https://www.nasdaq.com/market-activity/stocks/aapl)\n",
      "- Historical data, news, and insights for informed trading and investment decisions are available on Nasdaq.\n",
      "\n",
      "To analyze if Apple's stock is a potential good investment, we can consider factors such as:\n",
      "1. Financial performance: Review Apple's revenue growth, profitability, and cash flow.\n",
      "2. Market trends: Analyze the industry trends and competitive landscape.\n",
      "3. Stock valuation: Evaluate the stock's price-to-earnings ratio and other valuation metrics.\n",
      "4. Future prospects: Consider upcoming product launches, innovations, and market expansion plans.\n",
      "\n",
      "Would you like to delve deeper into any specific aspect of Apple's stock for a more detailed analysis?\u001b[0m\n",
      "\n",
      "\u001b[1m> Finished chain.\u001b[0m\n"
     ]
    },
    {
     "data": {
      "text/plain": [
       "{'input': \"Give me information on Apple's stock and help me analyze if it's a potential good investment. Also tell me what symbol does the stock have.\",\n",
       " 'output': \"The stock symbol for Apple Inc. is AAPL. \\n\\nApple Inc. (AAPL) is listed on the NASDAQ GS stock exchange. Here are some key details about Apple's stock:\\n- Real-time stock price: [AAPL Stock Price](https://www.nasdaq.com/market-activity/stocks/aapl)\\n- Historical data, news, and insights for informed trading and investment decisions are available on Nasdaq.\\n\\nTo analyze if Apple's stock is a potential good investment, we can consider factors such as:\\n1. Financial performance: Review Apple's revenue growth, profitability, and cash flow.\\n2. Market trends: Analyze the industry trends and competitive landscape.\\n3. Stock valuation: Evaluate the stock's price-to-earnings ratio and other valuation metrics.\\n4. Future prospects: Consider upcoming product launches, innovations, and market expansion plans.\\n\\nWould you like to delve deeper into any specific aspect of Apple's stock for a more detailed analysis?\"}"
      ]
     },
     "execution_count": 8,
     "metadata": {},
     "output_type": "execute_result"
    }
   ],
   "source": [
    "from typing import Any, Type\n",
    "from langchain.chat_models import ChatOpenAI\n",
    "from langchain.tools import BaseTool\n",
    "from pydantic import BaseModel, Field\n",
    "from langchain.agents import initialize_agent, AgentType\n",
    "from langchain.utilities import DuckDuckGoSearchAPIWrapper\n",
    "\n",
    "llm = ChatOpenAI(temperature=0.1)\n",
    "\n",
    "\n",
    "class StockMarketSymbolSearchToolArgsSchema(BaseModel):\n",
    "    query: str = Field(\n",
    "        description=\"The query you will search for.Example query: Stock Market Symbol for Apple Company\"\n",
    "    )\n",
    "\n",
    "\n",
    "class StockMarketSymbolSearchTool(BaseTool):\n",
    "    name = \"StockMarketSymbolSearchTool\"\n",
    "    description = \"\"\"\n",
    "    Use this tool to find the stock market symbol for a company.\n",
    "    It takes a query as an argument.\n",
    "    \n",
    "    \"\"\"\n",
    "    args_schema: Type[\n",
    "        StockMarketSymbolSearchToolArgsSchema\n",
    "    ] = StockMarketSymbolSearchToolArgsSchema\n",
    "\n",
    "    def _run(self, query):\n",
    "        ddg = DuckDuckGoSearchAPIWrapper()\n",
    "        return ddg.run(query)\n",
    "\n",
    "\n",
    "agent = initialize_agent(\n",
    "    llm=llm,\n",
    "    verbose=True,\n",
    "    agent=AgentType.OPENAI_FUNCTIONS,\n",
    "    handle_parsing_errors=True,\n",
    "    tools=[\n",
    "        StockMarketSymbolSearchTool(),\n",
    "    ],\n",
    ")\n",
    "\n",
    "prompt = \"Give me information on Cloudflare's stock and help me analyze if it's a potential good investment. Also tell me what symbol does the stock have.\"\n",
    "\n",
    "agent.invoke(prompt)"
   ]
  },
  {
   "cell_type": "code",
   "execution_count": null,
   "metadata": {},
   "outputs": [],
   "source": []
  }
 ],
 "metadata": {
  "kernelspec": {
   "display_name": "Python 3.11.1 ('env': venv)",
   "language": "python",
   "name": "python3"
  },
  "language_info": {
   "codemirror_mode": {
    "name": "ipython",
    "version": 3
   },
   "file_extension": ".py",
   "mimetype": "text/x-python",
   "name": "python",
   "nbconvert_exporter": "python",
   "pygments_lexer": "ipython3",
   "version": "3.11.1"
  },
  "orig_nbformat": 4,
  "vscode": {
   "interpreter": {
    "hash": "f4a12807d5d31e7859eaa5b0d5469593ff6754ed9fdcc97c4766f6dc90272706"
   }
  }
 },
 "nbformat": 4,
 "nbformat_minor": 2
}
