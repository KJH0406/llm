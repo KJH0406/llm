{
 "cells": [
  {
   "cell_type": "code",
   "execution_count": null,
   "metadata": {},
   "outputs": [],
   "source": [
    "# LLM 모델을 통한 연산 예제\n",
    "from typing import Type\n",
    "from langchain.chat_models import ChatOpenAI\n",
    "from langchain.tools import BaseTool\n",
    "from langchain.agents import initialize_agent, AgentType\n",
    "from pydantic import BaseModel,Field\n",
    "\n",
    "llm = ChatOpenAI(temperature=0)\n",
    "\n",
    "\n",
    "# a와 b의 형태 지정\n",
    "class CalculatorToolArgsSchema(BaseModel):\n",
    "    a: float = Field(description=\"The first number\")\n",
    "    b: float = Field(description=\"The second number\")\n",
    "\n",
    "# BaseTool을 사용하여 직접 Tool 형식을 지정\n",
    "class CalculatorTool(BaseTool):\n",
    "    # 툴 이름\n",
    "    name = \"SumsCalculator\"\n",
    "    # 툴에 대한 설명 작성(프롬프트)\n",
    "    description=\"\"\"\n",
    "    Use this to perform sums of two numbers.\n",
    "    The first and second arguments should be numbers.\n",
    "    Only receives two arguments.\n",
    "    \"\"\"\n",
    "    # 함수 인자 스키마 지정(입력 값 형태)\n",
    "    args_schema: Type[CalculatorToolArgsSchema] = CalculatorToolArgsSchema\n",
    "\n",
    "    def _run(self, a, b):\n",
    "        return a + b\n",
    "\n",
    "    \n",
    "\n",
    "# 에이전트 생성\n",
    "agent = initialize_agent(\n",
    "    # 사용할 LLM 모델\n",
    "    llm=llm,\n",
    "\n",
    "    # 추론 과정 디버깅(에전트가 하는 작업의 모든 과정 및 추론을 직접 확인해볼 수 있음)\n",
    "    verbose = True, \n",
    "\n",
    "    # 에이전트 유형 설정\n",
    "    agent=AgentType.OPENAI_FUNCTIONS,\n",
    "\n",
    "    # LLM이 우리가 원하는 출력 형식으로 응답하지 않아서 파싱 에러가 발생하면 에이전트가 오류를 처리하고 대응함.\n",
    "    handle_parsing_errors=True,\n",
    "\n",
    "    # 에이전트가 사용할 도구 모음(Tools)\n",
    "    tools=[\n",
    "       CalculatorTool(),\n",
    "    ]\n",
    ")\n",
    "\n",
    "prompt = \"Cost of $355.39 + $924.87 + $721.2 + $1940.29 + $573.63 + $65.72 + $35.00 + $552.00 + $76.16 + $29.12.\"\n",
    "\n",
    "\n",
    "# 이번엔 에이전트에게 프롬프트를 입력(위에선 LLM모델에 입력했음)\n",
    "agent.invoke(prompt)"
   ]
  },
  {
   "cell_type": "code",
   "execution_count": null,
   "metadata": {},
   "outputs": [],
   "source": []
  },
  {
   "cell_type": "code",
   "execution_count": null,
   "metadata": {},
   "outputs": [],
   "source": []
  }
 ],
 "metadata": {
  "kernelspec": {
   "display_name": "Python 3.11.1 ('env': venv)",
   "language": "python",
   "name": "python3"
  },
  "language_info": {
   "codemirror_mode": {
    "name": "ipython",
    "version": 3
   },
   "file_extension": ".py",
   "mimetype": "text/x-python",
   "name": "python",
   "nbconvert_exporter": "python",
   "pygments_lexer": "ipython3",
   "version": "3.11.1"
  },
  "orig_nbformat": 4,
  "vscode": {
   "interpreter": {
    "hash": "f4a12807d5d31e7859eaa5b0d5469593ff6754ed9fdcc97c4766f6dc90272706"
   }
  }
 },
 "nbformat": 4,
 "nbformat_minor": 2
}
