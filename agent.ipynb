{
 "cells": [
  {
   "cell_type": "code",
   "execution_count": 8,
   "metadata": {},
   "outputs": [
    {
     "name": "stdout",
     "output_type": "stream",
     "text": [
      "\n",
      "\n",
      "\u001b[1m> Entering new AgentExecutor chain...\u001b[0m\n",
      "\u001b[32;1m\u001b[1;3m\n",
      "Invoking: `StockMarketSymbolSearchTool` with `{'query': 'Cloudflare'}`\n",
      "\n",
      "\n",
      "\u001b[0m\u001b[36;1m\u001b[1;3mRead the latest posts from Cloudflare's official blog, covering topics such as security, performance, AI, email, DNS, and more. Learn how Cloudflare disrupts threats, innovates features, and improves Internet infrastructure. Finally, because Cloudflare also operates a CDN, websites that are already on Cloudflare will be given a \"hot-path,\" and will load faster. We at Cloudflare are always striving to bring more privacy options to the open Internet, and we are excited to provide more private and secure browsing to Edge users. Cloudflare Announces Fourth Quarter and Fiscal Year 2023 Financial Results. February 08, 2024. New Cloudflare Report Shows Organizations Struggle to Identify and Manage Cybersecurity Risks of APIs. January 09, 2024. Cloudflare Announces Date of Fourth Quarter 2023 Financial Results. January 09, 2024. We list global press coverage about ... Cloudflare is a service that speeds up and secures websites and applications with its global network of servers. Learn how Cloudflare works, what it offers, and how to get started with its learning paths. Cloudflare's Year in Review revealed that in 2023 alone, there was a 25% increase in global traffic, with no signs of slowing. This growth underscores the dependency on Internet services to facilitate and underpin vital systems and tasks such as supporting global digital economies, enabling the operations of healthcare networks, maintaining ...\u001b[0m\u001b[32;1m\u001b[1;3mThe stock market symbol for Cloudflare is NET. Now, let's analyze if Cloudflare's stock is a potential good investment.\n",
      "\n",
      "Cloudflare is a company that provides services to speed up and secure websites and applications with its global network of servers. The company has shown growth in global traffic, indicating a growing dependency on Internet services.\n",
      "\n",
      "To determine if Cloudflare's stock is a potential good investment, we need to consider factors such as the company's financial performance, growth potential, competitive landscape, and market trends. It's important to conduct a thorough analysis of the company's financial statements, revenue growth, profitability, and market position.\n",
      "\n",
      "Additionally, you may want to consider consulting with a financial advisor or conducting further research on Cloudflare's stock performance and future prospects before making an investment decision.\u001b[0m\n",
      "\n",
      "\u001b[1m> Finished chain.\u001b[0m\n"
     ]
    },
    {
     "data": {
      "text/plain": [
       "{'input': \"Give me information on Cloudflare's stock and help me analyze if it's a potential good investment. Also tell me what symbol does the stock have.\",\n",
       " 'output': \"The stock market symbol for Cloudflare is NET. Now, let's analyze if Cloudflare's stock is a potential good investment.\\n\\nCloudflare is a company that provides services to speed up and secure websites and applications with its global network of servers. The company has shown growth in global traffic, indicating a growing dependency on Internet services.\\n\\nTo determine if Cloudflare's stock is a potential good investment, we need to consider factors such as the company's financial performance, growth potential, competitive landscape, and market trends. It's important to conduct a thorough analysis of the company's financial statements, revenue growth, profitability, and market position.\\n\\nAdditionally, you may want to consider consulting with a financial advisor or conducting further research on Cloudflare's stock performance and future prospects before making an investment decision.\"}"
      ]
     },
     "execution_count": 8,
     "metadata": {},
     "output_type": "execute_result"
    }
   ],
   "source": [
    "# LLM 모델을 통한 연산 예제\n",
    "from typing import Type\n",
    "from pydantic import BaseModel,Field\n",
    "from langchain.chat_models import ChatOpenAI\n",
    "from langchain.tools import BaseTool\n",
    "from langchain.agents import initialize_agent, AgentType\n",
    "from langchain.utilities import DuckDuckGoSearchAPIWrapper\n",
    "\n",
    "llm = ChatOpenAI(temperature=0)\n",
    "\n",
    "class StockMarketSymbolSearchToolArgsSchema(BaseModel):\n",
    "    query: str = Field(description=\"The query you will search for\") # Field는 각 필드의 메타데이터(추가 설명 등)를 제공\n",
    "\n",
    "\n",
    "# 주식 심볼 찾는 도구(종목 코드)\n",
    "class StockMarketSymbolSearchTool(BaseTool):\n",
    "    name = \"StockMarketSymbolSearchTool\"\n",
    "    description = \"\"\"\n",
    "    Use this tool to find the stock market symbol for a company.\n",
    "    It takes a query as an argument.\n",
    "    Example query: Stock Market Symbol for Apple Company\n",
    "    \"\"\"\n",
    "\n",
    "    args_schema: Type[StockMarketSymbolSearchToolArgsSchema] = StockMarketSymbolSearchToolArgsSchema\n",
    "\n",
    "    def _run(self, query):\n",
    "        # DuckDuckGo 검색 엔진을 통해 웹 검색을 수행하는 기능 또는 도구\n",
    "        search_engine = DuckDuckGoSearchAPIWrapper()\n",
    "        # 검색 엔진을 사용하여 웹 검색\n",
    "        return search_engine.run(query)\n",
    "\n",
    "\n",
    "agent = initialize_agent(\n",
    "    llm=llm,\n",
    "    verbose = True, \n",
    "    agent=AgentType.OPENAI_FUNCTIONS,\n",
    "    handle_parsing_errors=True,\n",
    "    tools=[\n",
    "        # 종목 코드 검색 도구\n",
    "        StockMarketSymbolSearchTool()\n",
    "    ]\n",
    ")\n",
    "\n",
    "prompt = \"Give me information on Cloudflare's stock and help me analyze if it's a potential good investment. Also tell me what symbol does the stock have.\"\n",
    "\n",
    "agent.invoke(prompt)"
   ]
  },
  {
   "cell_type": "code",
   "execution_count": null,
   "metadata": {},
   "outputs": [],
   "source": []
  },
  {
   "cell_type": "code",
   "execution_count": null,
   "metadata": {},
   "outputs": [],
   "source": []
  }
 ],
 "metadata": {
  "kernelspec": {
   "display_name": "Python 3.11.1 ('env': venv)",
   "language": "python",
   "name": "python3"
  },
  "language_info": {
   "codemirror_mode": {
    "name": "ipython",
    "version": 3
   },
   "file_extension": ".py",
   "mimetype": "text/x-python",
   "name": "python",
   "nbconvert_exporter": "python",
   "pygments_lexer": "ipython3",
   "version": "3.11.1"
  },
  "orig_nbformat": 4,
  "vscode": {
   "interpreter": {
    "hash": "f4a12807d5d31e7859eaa5b0d5469593ff6754ed9fdcc97c4766f6dc90272706"
   }
  }
 },
 "nbformat": 4,
 "nbformat_minor": 2
}
